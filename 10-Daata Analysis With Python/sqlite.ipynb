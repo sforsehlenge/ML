{
 "cells": [
  {
   "cell_type": "code",
   "execution_count": 1,
   "metadata": {},
   "outputs": [],
   "source": [
    "import sqlite3"
   ]
  },
  {
   "cell_type": "code",
   "execution_count": 3,
   "metadata": {},
   "outputs": [
    {
     "data": {
      "text/plain": [
       "<sqlite3.Connection at 0x105e214e0>"
      ]
     },
     "execution_count": 3,
     "metadata": {},
     "output_type": "execute_result"
    }
   ],
   "source": [
    "connection= sqlite3. connect('example.db')\n",
    "connection"
   ]
  },
  {
   "cell_type": "code",
   "execution_count": 4,
   "metadata": {},
   "outputs": [],
   "source": [
    "cursor= connection.cursor()"
   ]
  },
  {
   "cell_type": "code",
   "execution_count": 6,
   "metadata": {},
   "outputs": [],
   "source": [
    "cursor.execute('''\n",
    "create table if not exists employees(\n",
    "    id integer primary key,\n",
    "    name text not null,\n",
    "    age integer,\n",
    "    department text\n",
    ") \n",
    "''')\n",
    "\n",
    "## commit the chnges \n",
    "connection.commit()"
   ]
  },
  {
   "cell_type": "code",
   "execution_count": 7,
   "metadata": {},
   "outputs": [
    {
     "data": {
      "text/plain": [
       "<sqlite3.Cursor at 0x106032dc0>"
      ]
     },
     "execution_count": 7,
     "metadata": {},
     "output_type": "execute_result"
    }
   ],
   "source": [
    "cursor.execute('''\n",
    "select * from employees \n",
    "\n",
    "''')"
   ]
  },
  {
   "cell_type": "code",
   "execution_count": 8,
   "metadata": {},
   "outputs": [],
   "source": [
    "## insert the data in sqlite table\n",
    "cursor.execute('''\n",
    "    insert into employees(name,age,department)\n",
    "               values('krish','32', 'data-sciencst')\n",
    "               ''')\n",
    "\n",
    "cursor.execute('''\n",
    "    insert into employees(name,age,department)\n",
    "               values('bob','36', 'financer')\n",
    "               ''')\n",
    "\n",
    "cursor.execute('''\n",
    "    insert into employees(name,age,department)\n",
    "               values('jack','37', 'sde')\n",
    "               ''')\n",
    "\n",
    "cursor.execute('''\n",
    "    insert into employees(name,age,department)\n",
    "               values('suman','38', 'devloper')\n",
    "               ''')\n",
    "\n",
    "cursor.execute('''\n",
    "    insert into employees(name,age,department)\n",
    "               values('aman','39', 'pro devloper')\n",
    "               ''')\n",
    "\n",
    "#commit the chnges\n",
    "\n",
    "connection.commit()\n",
    "\n"
   ]
  },
  {
   "cell_type": "code",
   "execution_count": 10,
   "metadata": {},
   "outputs": [
    {
     "name": "stdout",
     "output_type": "stream",
     "text": [
      "(1, 'krish', 32, 'data-sciencst')\n",
      "(2, 'bob', 36, 'financer')\n",
      "(3, 'jack', 37, 'sde')\n",
      "(4, 'suman', 38, 'devloper')\n",
      "(5, 'aman', 39, 'pro devloper')\n"
     ]
    }
   ],
   "source": [
    "## query tha data from the table\n",
    "\n",
    "cursor.execute('select * from employees')\n",
    "rows= cursor.fetchall()\n",
    "\n",
    "### print the query data\n",
    "for i in rows:\n",
    "    print(i)"
   ]
  },
  {
   "cell_type": "code",
   "execution_count": 11,
   "metadata": {},
   "outputs": [],
   "source": [
    "## update the data in the table\n",
    "cursor.execute('''\n",
    "UPDATE employees\n",
    "               set age= 99\n",
    "               where name=\"suman\"\n",
    "''')\n",
    "connection.commit()"
   ]
  },
  {
   "cell_type": "code",
   "execution_count": 12,
   "metadata": {},
   "outputs": [
    {
     "name": "stdout",
     "output_type": "stream",
     "text": [
      "(1, 'krish', 32, 'data-sciencst')\n",
      "(2, 'bob', 36, 'financer')\n",
      "(3, 'jack', 37, 'sde')\n",
      "(4, 'suman', 99, 'devloper')\n",
      "(5, 'aman', 39, 'pro devloper')\n"
     ]
    }
   ],
   "source": [
    "## now again query from the updated dataset\n",
    "cursor.execute('select * from employees')\n",
    "rows= cursor.fetchall()\n",
    "\n",
    "for i in rows:\n",
    "    print(i)"
   ]
  },
  {
   "cell_type": "code",
   "execution_count": 15,
   "metadata": {},
   "outputs": [
    {
     "name": "stdout",
     "output_type": "stream",
     "text": [
      "(1, 'krish', 32, 'data-sciencst')\n",
      "(3, 'jack', 37, 'sde')\n",
      "(4, 'suman', 99, 'devloper')\n",
      "(5, 'aman', 39, 'pro devloper')\n"
     ]
    }
   ],
   "source": [
    "## delete the data from the table\n",
    "\n",
    "cursor.execute('''\n",
    "delete from employees\n",
    "               where name='bob'\n",
    "\n",
    "''')\n",
    "connection.commit()\n",
    "\n",
    "cursor.execute('select * from employees')\n",
    "rows= cursor.fetchall();\n",
    "for i in rows:\n",
    "    print(i)"
   ]
  },
  {
   "cell_type": "code",
   "execution_count": 28,
   "metadata": {},
   "outputs": [],
   "source": [
    "## working with sales data\n",
    "\n",
    "conect= sqlite3.connect('sales_data.db')\n",
    "cursr= conect.cursor()\n",
    "\n",
    "cursr.execute('''\n",
    "create table if not exists sales(\n",
    "              id integer primary key,\n",
    "              date text not null,\n",
    "              product text not null,\n",
    "              sales integer,\n",
    "              region text\n",
    ")\n",
    "''')\n",
    "\n",
    "## insert the data into the sales table\n",
    "sales_data=[\n",
    "('2023-01-14', 'Keyboard'  ,    603,'East ') ,\n",
    "('2023-03-03', 'Monitor'   ,     842,'North'),\n",
    "('2023-05-19', 'Laptop'    ,      724,'West'),\n",
    "('2023-06-11', 'Smartphone',  194,'South'),\n",
    "('2023-07-27', 'Headphones',  389,'North'),\n",
    "('2023-08-02', 'Monitor'   ,     737,'South'),\n",
    "('2023-02-25', 'Smartphone',  975,'West')\n",
    "]\n",
    "cursr.executemany('''\n",
    "insert into sales(date,product,sales,region)\n",
    "                  values(?,?,?,?)\n",
    "''',sales_data)\n",
    "conect.commit()"
   ]
  },
  {
   "cell_type": "code",
   "execution_count": 4,
   "metadata": {},
   "outputs": [
    {
     "ename": "NameError",
     "evalue": "name 'cursr' is not defined",
     "output_type": "error",
     "traceback": [
      "\u001b[31m---------------------------------------------------------------------------\u001b[39m",
      "\u001b[31mNameError\u001b[39m                                 Traceback (most recent call last)",
      "\u001b[36mCell\u001b[39m\u001b[36m \u001b[39m\u001b[32mIn[4]\u001b[39m\u001b[32m, line 1\u001b[39m\n\u001b[32m----> \u001b[39m\u001b[32m1\u001b[39m \u001b[43mcursr\u001b[49m.execute(\u001b[33m'\u001b[39m\u001b[33mselect*from sales\u001b[39m\u001b[33m'\u001b[39m)\n\u001b[32m      2\u001b[39m rows = cursr.fetchall()\n\u001b[32m      4\u001b[39m \u001b[38;5;28;01mfor\u001b[39;00m i \u001b[38;5;129;01min\u001b[39;00m rows: \n",
      "\u001b[31mNameError\u001b[39m: name 'cursr' is not defined"
     ]
    }
   ],
   "source": [
    "cursr.execute('select*from sales')\n",
    "rows = cursr.fetchall()\n",
    "\n",
    "for i in rows: \n",
    "    print(i)\n",
    "\n",
    "\n"
   ]
  },
  {
   "cell_type": "code",
   "execution_count": 1,
   "metadata": {},
   "outputs": [
    {
     "ename": "NameError",
     "evalue": "name 'conect' is not defined",
     "output_type": "error",
     "traceback": [
      "\u001b[31m---------------------------------------------------------------------------\u001b[39m",
      "\u001b[31mNameError\u001b[39m                                 Traceback (most recent call last)",
      "\u001b[36mCell\u001b[39m\u001b[36m \u001b[39m\u001b[32mIn[1]\u001b[39m\u001b[32m, line 1\u001b[39m\n\u001b[32m----> \u001b[39m\u001b[32m1\u001b[39m \u001b[43mconect\u001b[49m.close()\n",
      "\u001b[31mNameError\u001b[39m: name 'conect' is not defined"
     ]
    }
   ],
   "source": [
    "conect.close()"
   ]
  },
  {
   "cell_type": "code",
   "execution_count": 2,
   "metadata": {},
   "outputs": [
    {
     "ename": "NameError",
     "evalue": "name 'connection' is not defined",
     "output_type": "error",
     "traceback": [
      "\u001b[31m---------------------------------------------------------------------------\u001b[39m",
      "\u001b[31mNameError\u001b[39m                                 Traceback (most recent call last)",
      "\u001b[36mCell\u001b[39m\u001b[36m \u001b[39m\u001b[32mIn[2]\u001b[39m\u001b[32m, line 1\u001b[39m\n\u001b[32m----> \u001b[39m\u001b[32m1\u001b[39m \u001b[43mconnection\u001b[49m.close()\n",
      "\u001b[31mNameError\u001b[39m: name 'connection' is not defined"
     ]
    }
   ],
   "source": [
    "connection.close()"
   ]
  },
  {
   "cell_type": "code",
   "execution_count": null,
   "metadata": {},
   "outputs": [],
   "source": []
  }
 ],
 "metadata": {
  "kernelspec": {
   "display_name": "Python 3",
   "language": "python",
   "name": "python3"
  },
  "language_info": {
   "codemirror_mode": {
    "name": "ipython",
    "version": 3
   },
   "file_extension": ".py",
   "mimetype": "text/x-python",
   "name": "python",
   "nbconvert_exporter": "python",
   "pygments_lexer": "ipython3",
   "version": "3.12.0"
  },
  "orig_nbformat": 4
 },
 "nbformat": 4,
 "nbformat_minor": 2
}
